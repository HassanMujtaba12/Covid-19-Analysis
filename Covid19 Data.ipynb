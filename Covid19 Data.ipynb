{
 "cells": [
  {
   "cell_type": "code",
   "execution_count": 1,
   "metadata": {},
   "outputs": [
    {
     "name": "stdout",
     "output_type": "stream",
     "text": [
      "{'length': 310, 'maxPageLimit': 2500, 'data': [{'areaname': 'Wales', 'areacode': 'W92000004', 'date': '2020-11-06', 'newCases': 1352}, {'areaname': 'Wales', 'areacode': 'W92000004', 'date': '2020-11-05', 'newCases': 1272}, {'areaname': 'Wales', 'areacode': 'W92000004', 'date': '2020-11-04', 'newCases': 1202}, {'areaname': 'Wales', 'areacode': 'W92000004', 'date': '2020-11-03', 'newCases': 1119}, {'areaname': 'Wales', 'areacode': 'W92000004', 'date': '2020-11-02', 'newCases': 1646}, {'areaname': 'Wales', 'areacode': 'W92000004', 'date': '2020-11-01', 'newCases': 819}, {'areaname': 'Wales', 'areacode': 'W92000004', 'date': '2020-10-31', 'newCases': 1301}, {'areaname': 'Wales', 'areacode': 'W92000004', 'date': '2020-10-30', 'newCases': 1737}, {'areaname': 'Wales', 'areacode': 'W92000004', 'date': '2020-10-29', 'newCases': 1375}, {'areaname': 'Wales', 'areacode': 'W92000004', 'date': '2020-10-28', 'newCases': 1414}, {'areaname': 'Wales', 'areacode': 'W92000004', 'date': '2020-10-27', 'newCases': 1207}, {'areaname': 'Wales', 'areacode': 'W92000004', 'date': '2020-10-26', 'newCases': 1158}, {'areaname': 'Wales', 'areacode': 'W92000004', 'date': '2020-10-25', 'newCases': 1104}, {'areaname': 'Wales', 'areacode': 'W92000004', 'date': '2020-10-24', 'newCases': 1324}, {'areaname': 'Wales', 'areacode': 'W92000004', 'date': '2020-10-23', 'newCases': 761}, {'areaname': 'Wales', 'areacode': 'W92000004', 'date': '2020-10-22', 'newCases': 1134}, {'areaname': 'Wales', 'areacode': 'W92000004', 'date': '2020-10-21', 'newCases': 962}, {'areaname': 'Wales', 'areacode': 'W92000004', 'date': '2020-10-20', 'newCases': 1148}, {'areaname': 'Wales', 'areacode': 'W92000004', 'date': '2020-10-19', 'newCases': 626}, {'areaname': 'Wales', 'areacode': 'W92000004', 'date': '2020-10-18', 'newCases': 950}, {'areaname': 'Wales', 'areacode': 'W92000004', 'date': '2020-10-17', 'newCases': 674}, {'areaname': 'Wales', 'areacode': 'W92000004', 'date': '2020-10-16', 'newCases': 979}, {'areaname': 'Wales', 'areacode': 'W92000004', 'date': '2020-10-15', 'newCases': 727}, {'areaname': 'Wales', 'areacode': 'W92000004', 'date': '2020-10-14', 'newCases': 946}, {'areaname': 'Wales', 'areacode': 'W92000004', 'date': '2020-10-13', 'newCases': 764}, {'areaname': 'Wales', 'areacode': 'W92000004', 'date': '2020-10-12', 'newCases': 487}, {'areaname': 'Wales', 'areacode': 'W92000004', 'date': '2020-10-11', 'newCases': 467}, {'areaname': 'Wales', 'areacode': 'W92000004', 'date': '2020-10-10', 'newCases': 627}, {'areaname': 'Wales', 'areacode': 'W92000004', 'date': '2020-10-09', 'newCases': 766}, {'areaname': 'Wales', 'areacode': 'W92000004', 'date': '2020-10-08', 'newCases': 638}, {'areaname': 'Wales', 'areacode': 'W92000004', 'date': '2020-10-07', 'newCases': 752}, {'areaname': 'Wales', 'areacode': 'W92000004', 'date': '2020-10-06', 'newCases': 425}, {'areaname': 'Wales', 'areacode': 'W92000004', 'date': '2020-10-05', 'newCases': 596}, {'areaname': 'Wales', 'areacode': 'W92000004', 'date': '2020-10-04', 'newCases': 432}, {'areaname': 'Wales', 'areacode': 'W92000004', 'date': '2020-10-03', 'newCases': 576}, {'areaname': 'Wales', 'areacode': 'W92000004', 'date': '2020-10-02', 'newCases': 462}, {'areaname': 'Wales', 'areacode': 'W92000004', 'date': '2020-10-01', 'newCases': 398}, {'areaname': 'Wales', 'areacode': 'W92000004', 'date': '2020-09-30', 'newCases': 388}, {'areaname': 'Wales', 'areacode': 'W92000004', 'date': '2020-09-29', 'newCases': 366}, {'areaname': 'Wales', 'areacode': 'W92000004', 'date': '2020-09-28', 'newCases': 286}, {'areaname': 'Wales', 'areacode': 'W92000004', 'date': '2020-09-27', 'newCases': 362}, {'areaname': 'Wales', 'areacode': 'W92000004', 'date': '2020-09-26', 'newCases': 370}, {'areaname': 'Wales', 'areacode': 'W92000004', 'date': '2020-09-25', 'newCases': 320}, {'areaname': 'Wales', 'areacode': 'W92000004', 'date': '2020-09-24', 'newCases': 348}, {'areaname': 'Wales', 'areacode': 'W92000004', 'date': '2020-09-23', 'newCases': 389}, {'areaname': 'Wales', 'areacode': 'W92000004', 'date': '2020-09-22', 'newCases': 281}, {'areaname': 'Wales', 'areacode': 'W92000004', 'date': '2020-09-21', 'newCases': 234}, {'areaname': 'Wales', 'areacode': 'W92000004', 'date': '2020-09-20', 'newCases': 199}, {'areaname': 'Wales', 'areacode': 'W92000004', 'date': '2020-09-19', 'newCases': 212}, {'areaname': 'Wales', 'areacode': 'W92000004', 'date': '2020-09-18', 'newCases': 185}, {'areaname': 'Wales', 'areacode': 'W92000004', 'date': '2020-09-17', 'newCases': 168}, {'areaname': 'Wales', 'areacode': 'W92000004', 'date': '2020-09-16', 'newCases': 199}, {'areaname': 'Wales', 'areacode': 'W92000004', 'date': '2020-09-15', 'newCases': 110}, {'areaname': 'Wales', 'areacode': 'W92000004', 'date': '2020-09-14', 'newCases': 183}, {'areaname': 'Wales', 'areacode': 'W92000004', 'date': '2020-09-13', 'newCases': 162}, {'areaname': 'Wales', 'areacode': 'W92000004', 'date': '2020-09-12', 'newCases': 164}, {'areaname': 'Wales', 'areacode': 'W92000004', 'date': '2020-09-11', 'newCases': 133}, {'areaname': 'Wales', 'areacode': 'W92000004', 'date': '2020-09-10', 'newCases': 102}, {'areaname': 'Wales', 'areacode': 'W92000004', 'date': '2020-09-09', 'newCases': 165}, {'areaname': 'Wales', 'areacode': 'W92000004', 'date': '2020-09-08', 'newCases': 150}, {'areaname': 'Wales', 'areacode': 'W92000004', 'date': '2020-09-07', 'newCases': 133}, {'areaname': 'Wales', 'areacode': 'W92000004', 'date': '2020-09-06', 'newCases': 98}, {'areaname': 'Wales', 'areacode': 'W92000004', 'date': '2020-09-05', 'newCases': 77}, {'areaname': 'Wales', 'areacode': 'W92000004', 'date': '2020-09-04', 'newCases': 51}, {'areaname': 'Wales', 'areacode': 'W92000004', 'date': '2020-09-03', 'newCases': 50}, {'areaname': 'Wales', 'areacode': 'W92000004', 'date': '2020-09-02', 'newCases': 42}, {'areaname': 'Wales', 'areacode': 'W92000004', 'date': '2020-09-01', 'newCases': 51}, {'areaname': 'Wales', 'areacode': 'W92000004', 'date': '2020-08-31', 'newCases': 39}, {'areaname': 'Wales', 'areacode': 'W92000004', 'date': '2020-08-30', 'newCases': 56}, {'areaname': 'Wales', 'areacode': 'W92000004', 'date': '2020-08-29', 'newCases': 40}, {'areaname': 'Wales', 'areacode': 'W92000004', 'date': '2020-08-28', 'newCases': 34}, {'areaname': 'Wales', 'areacode': 'W92000004', 'date': '2020-08-27', 'newCases': 35}, {'areaname': 'Wales', 'areacode': 'W92000004', 'date': '2020-08-26', 'newCases': 34}, {'areaname': 'Wales', 'areacode': 'W92000004', 'date': '2020-08-25', 'newCases': 28}, {'areaname': 'Wales', 'areacode': 'W92000004', 'date': '2020-08-24', 'newCases': 19}, {'areaname': 'Wales', 'areacode': 'W92000004', 'date': '2020-08-23', 'newCases': 20}, {'areaname': 'Wales', 'areacode': 'W92000004', 'date': '2020-08-22', 'newCases': 34}, {'areaname': 'Wales', 'areacode': 'W92000004', 'date': '2020-08-21', 'newCases': 34}, {'areaname': 'Wales', 'areacode': 'W92000004', 'date': '2020-08-20', 'newCases': 19}, {'areaname': 'Wales', 'areacode': 'W92000004', 'date': '2020-08-19', 'newCases': 21}, {'areaname': 'Wales', 'areacode': 'W92000004', 'date': '2020-08-18', 'newCases': 24}, {'areaname': 'Wales', 'areacode': 'W92000004', 'date': '2020-08-17', 'newCases': 14}, {'areaname': 'Wales', 'areacode': 'W92000004', 'date': '2020-08-16', 'newCases': 18}, {'areaname': 'Wales', 'areacode': 'W92000004', 'date': '2020-08-15', 'newCases': 27}, {'areaname': 'Wales', 'areacode': 'W92000004', 'date': '2020-08-14', 'newCases': 18}, {'areaname': 'Wales', 'areacode': 'W92000004', 'date': '2020-08-13', 'newCases': 15}, {'areaname': 'Wales', 'areacode': 'W92000004', 'date': '2020-08-12', 'newCases': 8}, {'areaname': 'Wales', 'areacode': 'W92000004', 'date': '2020-08-11', 'newCases': 13}, {'areaname': 'Wales', 'areacode': 'W92000004', 'date': '2020-08-10', 'newCases': 12}, {'areaname': 'Wales', 'areacode': 'W92000004', 'date': '2020-08-09', 'newCases': 26}, {'areaname': 'Wales', 'areacode': 'W92000004', 'date': '2020-08-08', 'newCases': 19}, {'areaname': 'Wales', 'areacode': 'W92000004', 'date': '2020-08-07', 'newCases': 17}, {'areaname': 'Wales', 'areacode': 'W92000004', 'date': '2020-08-06', 'newCases': 15}, {'areaname': 'Wales', 'areacode': 'W92000004', 'date': '2020-08-05', 'newCases': 14}, {'areaname': 'Wales', 'areacode': 'W92000004', 'date': '2020-08-04', 'newCases': 22}, {'areaname': 'Wales', 'areacode': 'W92000004', 'date': '2020-08-03', 'newCases': 24}, {'areaname': 'Wales', 'areacode': 'W92000004', 'date': '2020-08-02', 'newCases': 37}, {'areaname': 'Wales', 'areacode': 'W92000004', 'date': '2020-08-01', 'newCases': 21}, {'areaname': 'Wales', 'areacode': 'W92000004', 'date': '2020-07-31', 'newCases': 26}, {'areaname': 'Wales', 'areacode': 'W92000004', 'date': '2020-07-30', 'newCases': 9}, {'areaname': 'Wales', 'areacode': 'W92000004', 'date': '2020-07-29', 'newCases': 32}, {'areaname': 'Wales', 'areacode': 'W92000004', 'date': '2020-07-28', 'newCases': 21}, {'areaname': 'Wales', 'areacode': 'W92000004', 'date': '2020-07-27', 'newCases': 45}, {'areaname': 'Wales', 'areacode': 'W92000004', 'date': '2020-07-26', 'newCases': 22}, {'areaname': 'Wales', 'areacode': 'W92000004', 'date': '2020-07-25', 'newCases': 30}, {'areaname': 'Wales', 'areacode': 'W92000004', 'date': '2020-07-24', 'newCases': 45}, {'areaname': 'Wales', 'areacode': 'W92000004', 'date': '2020-07-23', 'newCases': 43}, {'areaname': 'Wales', 'areacode': 'W92000004', 'date': '2020-07-22', 'newCases': 22}, {'areaname': 'Wales', 'areacode': 'W92000004', 'date': '2020-07-21', 'newCases': 22}, {'areaname': 'Wales', 'areacode': 'W92000004', 'date': '2020-07-20', 'newCases': 15}, {'areaname': 'Wales', 'areacode': 'W92000004', 'date': '2020-07-19', 'newCases': 31}, {'areaname': 'Wales', 'areacode': 'W92000004', 'date': '2020-07-18', 'newCases': 10}, {'areaname': 'Wales', 'areacode': 'W92000004', 'date': '2020-07-17', 'newCases': 16}, {'areaname': 'Wales', 'areacode': 'W92000004', 'date': '2020-07-16', 'newCases': 18}, {'areaname': 'Wales', 'areacode': 'W92000004', 'date': '2020-07-15', 'newCases': 18}, {'areaname': 'Wales', 'areacode': 'W92000004', 'date': '2020-07-14', 'newCases': 21}, {'areaname': 'Wales', 'areacode': 'W92000004', 'date': '2020-07-13', 'newCases': 11}, {'areaname': 'Wales', 'areacode': 'W92000004', 'date': '2020-07-12', 'newCases': 16}, {'areaname': 'Wales', 'areacode': 'W92000004', 'date': '2020-07-11', 'newCases': 7}, {'areaname': 'Wales', 'areacode': 'W92000004', 'date': '2020-07-10', 'newCases': 10}, {'areaname': 'Wales', 'areacode': 'W92000004', 'date': '2020-07-09', 'newCases': 16}, {'areaname': 'Wales', 'areacode': 'W92000004', 'date': '2020-07-08', 'newCases': 13}, {'areaname': 'Wales', 'areacode': 'W92000004', 'date': '2020-07-07', 'newCases': 2}, {'areaname': 'Wales', 'areacode': 'W92000004', 'date': '2020-07-06', 'newCases': 8}, {'areaname': 'Wales', 'areacode': 'W92000004', 'date': '2020-07-05', 'newCases': 15}, {'areaname': 'Wales', 'areacode': 'W92000004', 'date': '2020-07-04', 'newCases': 34}, {'areaname': 'Wales', 'areacode': 'W92000004', 'date': '2020-07-03', 'newCases': 26}, {'areaname': 'Wales', 'areacode': 'W92000004', 'date': '2020-07-02', 'newCases': 41}, {'areaname': 'Wales', 'areacode': 'W92000004', 'date': '2020-07-01', 'newCases': 32}, {'areaname': 'Wales', 'areacode': 'W92000004', 'date': '2020-06-30', 'newCases': 26}, {'areaname': 'Wales', 'areacode': 'W92000004', 'date': '2020-06-29', 'newCases': 116}, {'areaname': 'Wales', 'areacode': 'W92000004', 'date': '2020-06-28', 'newCases': 25}, {'areaname': 'Wales', 'areacode': 'W92000004', 'date': '2020-06-27', 'newCases': 46}, {'areaname': 'Wales', 'areacode': 'W92000004', 'date': '2020-06-26', 'newCases': 65}, {'areaname': 'Wales', 'areacode': 'W92000004', 'date': '2020-06-25', 'newCases': 125}, {'areaname': 'Wales', 'areacode': 'W92000004', 'date': '2020-06-24', 'newCases': 47}, {'areaname': 'Wales', 'areacode': 'W92000004', 'date': '2020-06-23', 'newCases': 51}, {'areaname': 'Wales', 'areacode': 'W92000004', 'date': '2020-06-22', 'newCases': 71}, {'areaname': 'Wales', 'areacode': 'W92000004', 'date': '2020-06-21', 'newCases': 100}, {'areaname': 'Wales', 'areacode': 'W92000004', 'date': '2020-06-20', 'newCases': 25}, {'areaname': 'Wales', 'areacode': 'W92000004', 'date': '2020-06-19', 'newCases': 31}, {'areaname': 'Wales', 'areacode': 'W92000004', 'date': '2020-06-18', 'newCases': 48}, {'areaname': 'Wales', 'areacode': 'W92000004', 'date': '2020-06-17', 'newCases': 53}, {'areaname': 'Wales', 'areacode': 'W92000004', 'date': '2020-06-16', 'newCases': 65}, {'areaname': 'Wales', 'areacode': 'W92000004', 'date': '2020-06-15', 'newCases': 62}, {'areaname': 'Wales', 'areacode': 'W92000004', 'date': '2020-06-14', 'newCases': 39}, {'areaname': 'Wales', 'areacode': 'W92000004', 'date': '2020-06-13', 'newCases': 45}, {'areaname': 'Wales', 'areacode': 'W92000004', 'date': '2020-06-12', 'newCases': 77}, {'areaname': 'Wales', 'areacode': 'W92000004', 'date': '2020-06-11', 'newCases': 63}, {'areaname': 'Wales', 'areacode': 'W92000004', 'date': '2020-06-10', 'newCases': 38}, {'areaname': 'Wales', 'areacode': 'W92000004', 'date': '2020-06-09', 'newCases': 42}, {'areaname': 'Wales', 'areacode': 'W92000004', 'date': '2020-06-08', 'newCases': 42}, {'areaname': 'Wales', 'areacode': 'W92000004', 'date': '2020-06-07', 'newCases': 40}, {'areaname': 'Wales', 'areacode': 'W92000004', 'date': '2020-06-06', 'newCases': 42}, {'areaname': 'Wales', 'areacode': 'W92000004', 'date': '2020-06-05', 'newCases': 76}, {'areaname': 'Wales', 'areacode': 'W92000004', 'date': '2020-06-04', 'newCases': 35}, {'areaname': 'Wales', 'areacode': 'W92000004', 'date': '2020-06-03', 'newCases': 82}, {'areaname': 'Wales', 'areacode': 'W92000004', 'date': '2020-06-02', 'newCases': 67}, {'areaname': 'Wales', 'areacode': 'W92000004', 'date': '2020-06-01', 'newCases': 59}, {'areaname': 'Wales', 'areacode': 'W92000004', 'date': '2020-05-31', 'newCases': 82}, {'areaname': 'Wales', 'areacode': 'W92000004', 'date': '2020-05-30', 'newCases': 86}, {'areaname': 'Wales', 'areacode': 'W92000004', 'date': '2020-05-29', 'newCases': 102}, {'areaname': 'Wales', 'areacode': 'W92000004', 'date': '2020-05-28', 'newCases': 72}, {'areaname': 'Wales', 'areacode': 'W92000004', 'date': '2020-05-27', 'newCases': 97}, {'areaname': 'Wales', 'areacode': 'W92000004', 'date': '2020-05-26', 'newCases': 141}, {'areaname': 'Wales', 'areacode': 'W92000004', 'date': '2020-05-25', 'newCases': 106}, {'areaname': 'Wales', 'areacode': 'W92000004', 'date': '2020-05-24', 'newCases': 140}, {'areaname': 'Wales', 'areacode': 'W92000004', 'date': '2020-05-23', 'newCases': 185}, {'areaname': 'Wales', 'areacode': 'W92000004', 'date': '2020-05-22', 'newCases': 138}, {'areaname': 'Wales', 'areacode': 'W92000004', 'date': '2020-05-21', 'newCases': 166}, {'areaname': 'Wales', 'areacode': 'W92000004', 'date': '2020-05-20', 'newCases': 110}, {'areaname': 'Wales', 'areacode': 'W92000004', 'date': '2020-05-19', 'newCases': 166}, {'areaname': 'Wales', 'areacode': 'W92000004', 'date': '2020-05-18', 'newCases': 101}, {'areaname': 'Wales', 'areacode': 'W92000004', 'date': '2020-05-17', 'newCases': 162}, {'areaname': 'Wales', 'areacode': 'W92000004', 'date': '2020-05-16', 'newCases': 183}, {'areaname': 'Wales', 'areacode': 'W92000004', 'date': '2020-05-15', 'newCases': 126}, {'areaname': 'Wales', 'areacode': 'W92000004', 'date': '2020-05-14', 'newCases': 128}, {'areaname': 'Wales', 'areacode': 'W92000004', 'date': '2020-05-13', 'newCases': 133}, {'areaname': 'Wales', 'areacode': 'W92000004', 'date': '2020-05-12', 'newCases': 105}, {'areaname': 'Wales', 'areacode': 'W92000004', 'date': '2020-05-11', 'newCases': 124}, {'areaname': 'Wales', 'areacode': 'W92000004', 'date': '2020-05-10', 'newCases': 223}, {'areaname': 'Wales', 'areacode': 'W92000004', 'date': '2020-05-09', 'newCases': 118}, {'areaname': 'Wales', 'areacode': 'W92000004', 'date': '2020-05-08', 'newCases': 152}, {'areaname': 'Wales', 'areacode': 'W92000004', 'date': '2020-05-07', 'newCases': 87}, {'areaname': 'Wales', 'areacode': 'W92000004', 'date': '2020-05-06', 'newCases': 95}, {'areaname': 'Wales', 'areacode': 'W92000004', 'date': '2020-05-05', 'newCases': 145}, {'areaname': 'Wales', 'areacode': 'W92000004', 'date': '2020-05-04', 'newCases': 195}, {'areaname': 'Wales', 'areacode': 'W92000004', 'date': '2020-05-03', 'newCases': 174}, {'areaname': 'Wales', 'areacode': 'W92000004', 'date': '2020-05-02', 'newCases': 183}, {'areaname': 'Wales', 'areacode': 'W92000004', 'date': '2020-05-01', 'newCases': 160}, {'areaname': 'Wales', 'areacode': 'W92000004', 'date': '2020-04-30', 'newCases': 183}, {'areaname': 'Wales', 'areacode': 'W92000004', 'date': '2020-04-29', 'newCases': 117}, {'areaname': 'Wales', 'areacode': 'W92000004', 'date': '2020-04-28', 'newCases': 232}, {'areaname': 'Wales', 'areacode': 'W92000004', 'date': '2020-04-27', 'newCases': 203}, {'areaname': 'Wales', 'areacode': 'W92000004', 'date': '2020-04-26', 'newCases': 178}, {'areaname': 'Wales', 'areacode': 'W92000004', 'date': '2020-04-25', 'newCases': 299}, {'areaname': 'Wales', 'areacode': 'W92000004', 'date': '2020-04-24', 'newCases': 243}, {'areaname': 'Wales', 'areacode': 'W92000004', 'date': '2020-04-23', 'newCases': 234}, {'areaname': 'Wales', 'areacode': 'W92000004', 'date': '2020-04-22', 'newCases': 274}, {'areaname': 'Wales', 'areacode': 'W92000004', 'date': '2020-04-21', 'newCases': 304}, {'areaname': 'Wales', 'areacode': 'W92000004', 'date': '2020-04-20', 'newCases': 276}, {'areaname': 'Wales', 'areacode': 'W92000004', 'date': '2020-04-19', 'newCases': 334}, {'areaname': 'Wales', 'areacode': 'W92000004', 'date': '2020-04-18', 'newCases': 292}, {'areaname': 'Wales', 'areacode': 'W92000004', 'date': '2020-04-17', 'newCases': 244}, {'areaname': 'Wales', 'areacode': 'W92000004', 'date': '2020-04-16', 'newCases': 284}, {'areaname': 'Wales', 'areacode': 'W92000004', 'date': '2020-04-15', 'newCases': 272}, {'areaname': 'Wales', 'areacode': 'W92000004', 'date': '2020-04-14', 'newCases': 238}, {'areaname': 'Wales', 'areacode': 'W92000004', 'date': '2020-04-13', 'newCases': 313}, {'areaname': 'Wales', 'areacode': 'W92000004', 'date': '2020-04-12', 'newCases': 367}, {'areaname': 'Wales', 'areacode': 'W92000004', 'date': '2020-04-11', 'newCases': 340}, {'areaname': 'Wales', 'areacode': 'W92000004', 'date': '2020-04-10', 'newCases': 502}, {'areaname': 'Wales', 'areacode': 'W92000004', 'date': '2020-04-09', 'newCases': 16}, {'areaname': 'Wales', 'areacode': 'W92000004', 'date': '2020-04-08', 'newCases': 283}, {'areaname': 'Wales', 'areacode': 'W92000004', 'date': '2020-04-07', 'newCases': 291}, {'areaname': 'Wales', 'areacode': 'W92000004', 'date': '2020-04-06', 'newCases': 302}, {'areaname': 'Wales', 'areacode': 'W92000004', 'date': '2020-04-05', 'newCases': 344}, {'areaname': 'Wales', 'areacode': 'W92000004', 'date': '2020-04-04', 'newCases': 387}, {'areaname': 'Wales', 'areacode': 'W92000004', 'date': '2020-04-03', 'newCases': 345}, {'areaname': 'Wales', 'areacode': 'W92000004', 'date': '2020-04-02', 'newCases': 284}, {'areaname': 'Wales', 'areacode': 'W92000004', 'date': '2020-04-01', 'newCases': 274}, {'areaname': 'Wales', 'areacode': 'W92000004', 'date': '2020-03-31', 'newCases': 112}, {'areaname': 'Wales', 'areacode': 'W92000004', 'date': '2020-03-30', 'newCases': 210}, {'areaname': 'Wales', 'areacode': 'W92000004', 'date': '2020-03-29', 'newCases': 148}, {'areaname': 'Wales', 'areacode': 'W92000004', 'date': '2020-03-28', 'newCases': 172}, {'areaname': 'Wales', 'areacode': 'W92000004', 'date': '2020-03-27', 'newCases': 180}, {'areaname': 'Wales', 'areacode': 'W92000004', 'date': '2020-03-26', 'newCases': 113}, {'areaname': 'Wales', 'areacode': 'W92000004', 'date': '2020-03-25', 'newCases': 150}, {'areaname': 'Wales', 'areacode': 'W92000004', 'date': '2020-03-24', 'newCases': 60}, {'areaname': 'Wales', 'areacode': 'W92000004', 'date': '2020-03-23', 'newCases': 71}, {'areaname': 'Wales', 'areacode': 'W92000004', 'date': '2020-03-22', 'newCases': 67}, {'areaname': 'Wales', 'areacode': 'W92000004', 'date': '2020-03-21', 'newCases': 89}, {'areaname': 'Wales', 'areacode': 'W92000004', 'date': '2020-03-20', 'newCases': 21}, {'areaname': 'Wales', 'areacode': 'W92000004', 'date': '2020-03-19', 'newCases': 21}, {'areaname': 'Wales', 'areacode': 'W92000004', 'date': '2020-03-18', 'newCases': 13}, {'areaname': 'Wales', 'areacode': 'W92000004', 'date': '2020-03-17', 'newCases': 12}, {'areaname': 'Wales', 'areacode': 'W92000004', 'date': '2020-03-16', 'newCases': 30}, {'areaname': 'Wales', 'areacode': 'W92000004', 'date': '2020-03-15', 'newCases': 34}, {'areaname': 'Wales', 'areacode': 'W92000004', 'date': '2020-03-14', 'newCases': 22}, {'areaname': 'Wales', 'areacode': 'W92000004', 'date': '2020-03-13', 'newCases': 13}, {'areaname': 'Wales', 'areacode': 'W92000004', 'date': '2020-03-12', 'newCases': 10}, {'areaname': 'Wales', 'areacode': 'W92000004', 'date': '2020-03-11', 'newCases': 9}, {'areaname': 'Wales', 'areacode': 'W92000004', 'date': '2020-03-10', 'newCases': 2}, {'areaname': 'Wales', 'areacode': 'W92000004', 'date': '2020-03-09', 'newCases': 2}, {'areaname': 'Wales', 'areacode': 'W92000004', 'date': '2020-03-08', 'newCases': 0}, {'areaname': 'Wales', 'areacode': 'W92000004', 'date': '2020-03-07', 'newCases': 0}, {'areaname': 'Wales', 'areacode': 'W92000004', 'date': '2020-03-06', 'newCases': 0}, {'areaname': 'Wales', 'areacode': 'W92000004', 'date': '2020-03-05', 'newCases': 1}, {'areaname': 'Wales', 'areacode': 'W92000004', 'date': '2020-03-04', 'newCases': 0}, {'areaname': 'Wales', 'areacode': 'W92000004', 'date': '2020-03-03', 'newCases': 0}, {'areaname': 'Wales', 'areacode': 'W92000004', 'date': '2020-03-02', 'newCases': 0}, {'areaname': 'Wales', 'areacode': 'W92000004', 'date': '2020-03-01', 'newCases': 0}, {'areaname': 'Wales', 'areacode': 'W92000004', 'date': '2020-02-29', 'newCases': 0}, {'areaname': 'Wales', 'areacode': 'W92000004', 'date': '2020-02-28', 'newCases': 1}, {'areaname': 'Wales', 'areacode': 'W92000004', 'date': '2020-02-27', 'newCases': 0}, {'areaname': 'Wales', 'areacode': 'W92000004', 'date': '2020-02-26', 'newCases': 0}, {'areaname': 'Wales', 'areacode': 'W92000004', 'date': '2020-02-25', 'newCases': 0}, {'areaname': 'Wales', 'areacode': 'W92000004', 'date': '2020-02-24', 'newCases': 0}, {'areaname': 'Wales', 'areacode': 'W92000004', 'date': '2020-02-23', 'newCases': 0}, {'areaname': 'Wales', 'areacode': 'W92000004', 'date': '2020-02-22', 'newCases': 0}, {'areaname': 'Wales', 'areacode': 'W92000004', 'date': '2020-02-21', 'newCases': 0}, {'areaname': 'Wales', 'areacode': 'W92000004', 'date': '2020-02-20', 'newCases': 0}, {'areaname': 'Wales', 'areacode': 'W92000004', 'date': '2020-02-19', 'newCases': 0}, {'areaname': 'Wales', 'areacode': 'W92000004', 'date': '2020-02-18', 'newCases': 0}, {'areaname': 'Wales', 'areacode': 'W92000004', 'date': '2020-02-17', 'newCases': 0}, {'areaname': 'Wales', 'areacode': 'W92000004', 'date': '2020-02-16', 'newCases': 0}, {'areaname': 'Wales', 'areacode': 'W92000004', 'date': '2020-02-15', 'newCases': 0}, {'areaname': 'Wales', 'areacode': 'W92000004', 'date': '2020-02-14', 'newCases': 0}, {'areaname': 'Wales', 'areacode': 'W92000004', 'date': '2020-02-13', 'newCases': 0}, {'areaname': 'Wales', 'areacode': 'W92000004', 'date': '2020-02-12', 'newCases': 0}, {'areaname': 'Wales', 'areacode': 'W92000004', 'date': '2020-02-11', 'newCases': 0}, {'areaname': 'Wales', 'areacode': 'W92000004', 'date': '2020-02-10', 'newCases': 0}, {'areaname': 'Wales', 'areacode': 'W92000004', 'date': '2020-02-09', 'newCases': 0}, {'areaname': 'Wales', 'areacode': 'W92000004', 'date': '2020-02-08', 'newCases': 0}, {'areaname': 'Wales', 'areacode': 'W92000004', 'date': '2020-02-07', 'newCases': 0}, {'areaname': 'Wales', 'areacode': 'W92000004', 'date': '2020-02-06', 'newCases': 0}, {'areaname': 'Wales', 'areacode': 'W92000004', 'date': '2020-02-05', 'newCases': 0}, {'areaname': 'Wales', 'areacode': 'W92000004', 'date': '2020-02-04', 'newCases': 0}, {'areaname': 'Wales', 'areacode': 'W92000004', 'date': '2020-02-03', 'newCases': 0}, {'areaname': 'Wales', 'areacode': 'W92000004', 'date': '2020-02-02', 'newCases': 0}, {'areaname': 'Wales', 'areacode': 'W92000004', 'date': '2020-02-01', 'newCases': 0}, {'areaname': 'Wales', 'areacode': 'W92000004', 'date': '2020-01-31', 'newCases': 0}, {'areaname': 'Wales', 'areacode': 'W92000004', 'date': '2020-01-30', 'newCases': 0}, {'areaname': 'Wales', 'areacode': 'W92000004', 'date': '2020-01-29', 'newCases': 0}, {'areaname': 'Wales', 'areacode': 'W92000004', 'date': '2020-01-28', 'newCases': 0}, {'areaname': 'Wales', 'areacode': 'W92000004', 'date': '2020-01-27', 'newCases': 0}, {'areaname': 'Wales', 'areacode': 'W92000004', 'date': '2020-01-26', 'newCases': 0}, {'areaname': 'Wales', 'areacode': 'W92000004', 'date': '2020-01-25', 'newCases': 0}, {'areaname': 'Wales', 'areacode': 'W92000004', 'date': '2020-01-24', 'newCases': 0}, {'areaname': 'Wales', 'areacode': 'W92000004', 'date': '2020-01-23', 'newCases': 0}, {'areaname': 'Wales', 'areacode': 'W92000004', 'date': '2020-01-22', 'newCases': 0}, {'areaname': 'Wales', 'areacode': 'W92000004', 'date': '2020-01-21', 'newCases': 0}, {'areaname': 'Wales', 'areacode': 'W92000004', 'date': '2020-01-20', 'newCases': 0}, {'areaname': 'Wales', 'areacode': 'W92000004', 'date': '2020-01-19', 'newCases': 0}, {'areaname': 'Wales', 'areacode': 'W92000004', 'date': '2020-01-18', 'newCases': 0}, {'areaname': 'Wales', 'areacode': 'W92000004', 'date': '2020-01-17', 'newCases': 0}, {'areaname': 'Wales', 'areacode': 'W92000004', 'date': '2020-01-16', 'newCases': 0}, {'areaname': 'Wales', 'areacode': 'W92000004', 'date': '2020-01-15', 'newCases': 0}, {'areaname': 'Wales', 'areacode': 'W92000004', 'date': '2020-01-14', 'newCases': 0}, {'areaname': 'Wales', 'areacode': 'W92000004', 'date': '2020-01-13', 'newCases': 0}, {'areaname': 'Wales', 'areacode': 'W92000004', 'date': '2020-01-12', 'newCases': 0}, {'areaname': 'Wales', 'areacode': 'W92000004', 'date': '2020-01-11', 'newCases': 0}, {'areaname': 'Wales', 'areacode': 'W92000004', 'date': '2020-01-10', 'newCases': 0}, {'areaname': 'Wales', 'areacode': 'W92000004', 'date': '2020-01-09', 'newCases': 0}, {'areaname': 'Wales', 'areacode': 'W92000004', 'date': '2020-01-08', 'newCases': 0}, {'areaname': 'Wales', 'areacode': 'W92000004', 'date': '2020-01-07', 'newCases': 0}, {'areaname': 'Wales', 'areacode': 'W92000004', 'date': '2020-01-06', 'newCases': 0}, {'areaname': 'Wales', 'areacode': 'W92000004', 'date': '2020-01-05', 'newCases': 0}, {'areaname': 'Wales', 'areacode': 'W92000004', 'date': '2020-01-04', 'newCases': 0}, {'areaname': 'Wales', 'areacode': 'W92000004', 'date': '2020-01-03', 'newCases': 0}, {'areaname': 'Wales', 'areacode': 'W92000004', 'date': '2020-01-02', 'newCases': 0}], 'pagination': {'current': '/v1/data?filters=areaType=nation;areaName=wales&structure=%7B%22areaname%22:%22areaName%22,%22areacode%22:%22areaCode%22,%22date%22:%22date%22,%22newCases%22:%22newCasesByPublishDate%22%7D&format=json&page=1', 'next': None, 'previous': None, 'first': '/v1/data?filters=areaType=nation;areaName=wales&structure=%7B%22areaname%22:%22areaName%22,%22areacode%22:%22areaCode%22,%22date%22:%22date%22,%22newCases%22:%22newCasesByPublishDate%22%7D&format=json&page=1', 'last': '/v1/data?filters=areaType=nation;areaName=wales&structure=%7B%22areaname%22:%22areaName%22,%22areacode%22:%22areaCode%22,%22date%22:%22date%22,%22newCases%22:%22newCasesByPublishDate%22%7D&format=json&page=1'}}\n"
     ]
    }
   ],
   "source": [
    "import pandas as pd\n",
    "from requests import get\n",
    "\n",
    "\n",
    "def get_data(url):\n",
    "    response = get(url, timeout=15)\n",
    "    \n",
    "    if response.status_code >= 400:\n",
    "        raise RuntimeError(f'Request failed: { response.text }')\n",
    "        \n",
    "    return response.json()\n",
    "    \n",
    "\n",
    "if __name__ == '__main__':\n",
    "    endpoint = (\n",
    "        'https://api.coronavirus.data.gov.uk/v1/data?'\n",
    "        'filters=areaType=nation;areaName=wales&'\n",
    "        'structure={\"areaname\":\"areaName\",\"areacode\":\"areaCode\",\"date\":\"date\",\"newCases\":\"newCasesByPublishDate\"}'\n",
    "    )\n",
    "    endpoint2 = (\n",
    "        'https://api.coronavirus.data.gov.uk/v1/data?'\n",
    "        'filters=areaType=nation;areaName=england&'\n",
    "        'structure={\"areaname\":\"areaName\",\"areacode\":\"areaCode\",\"date\":\"date\",\"newCases\":\"newCasesByPublishDate\"}'\n",
    "    )\n",
    "    endpoint3 = (\n",
    "        'https://api.coronavirus.data.gov.uk/v1/data?'\n",
    "        'filters=areaType=nation;areaName=northern ireland&'\n",
    "        'structure={\"areaname\":\"areaName\",\"areacode\":\"areaCode\",\"date\":\"date\",\"newCases\":\"newCasesByPublishDate\"}'\n",
    "    )\n",
    "    endpoint4 = (\n",
    "        'https://api.coronavirus.data.gov.uk/v1/data?'\n",
    "        'filters=areaType=nation;areaName=scotland&'\n",
    "        'structure={\"areaname\":\"areaName\",\"areacode\":\"areaCode\",\"date\":\"date\",\"newCases\":\"newCasesByPublishDate\"}'\n",
    "    )\n",
    "\n",
    "\n",
    "    data = get_data(endpoint2)\n",
    "    wales_data = get_data(endpoint)\n",
    "    N_ireland = get_data(endpoint3)\n",
    "    scot = get_data(endpoint4)\n",
    "    #print(data)\n",
    "    print(wales_data)\n"
   ]
  },
  {
   "cell_type": "code",
   "execution_count": 2,
   "metadata": {},
   "outputs": [
    {
     "data": {
      "text/plain": [
       "list"
      ]
     },
     "execution_count": 2,
     "metadata": {},
     "output_type": "execute_result"
    }
   ],
   "source": [
    "type(data['data'])"
   ]
  },
  {
   "cell_type": "code",
   "execution_count": 3,
   "metadata": {},
   "outputs": [],
   "source": [
    "Eng_df=pd.DataFrame(data['data'])\n",
    "wales_df=pd.DataFrame(wales_data['data'])\n",
    "nireland_df=pd.DataFrame(N_ireland['data'])\n",
    "scot_df = pd.DataFrame(scot['data'])"
   ]
  },
  {
   "cell_type": "code",
   "execution_count": 4,
   "metadata": {},
   "outputs": [
    {
     "data": {
      "text/html": [
       "<div>\n",
       "<style scoped>\n",
       "    .dataframe tbody tr th:only-of-type {\n",
       "        vertical-align: middle;\n",
       "    }\n",
       "\n",
       "    .dataframe tbody tr th {\n",
       "        vertical-align: top;\n",
       "    }\n",
       "\n",
       "    .dataframe thead th {\n",
       "        text-align: right;\n",
       "    }\n",
       "</style>\n",
       "<table border=\"1\" class=\"dataframe\">\n",
       "  <thead>\n",
       "    <tr style=\"text-align: right;\">\n",
       "      <th></th>\n",
       "      <th>areaname</th>\n",
       "      <th>areacode</th>\n",
       "      <th>date</th>\n",
       "      <th>newCases</th>\n",
       "    </tr>\n",
       "  </thead>\n",
       "  <tbody>\n",
       "    <tr>\n",
       "      <th>309</th>\n",
       "      <td>Scotland</td>\n",
       "      <td>S92000003</td>\n",
       "      <td>2020-01-02</td>\n",
       "      <td>0</td>\n",
       "    </tr>\n",
       "    <tr>\n",
       "      <th>308</th>\n",
       "      <td>Scotland</td>\n",
       "      <td>S92000003</td>\n",
       "      <td>2020-01-03</td>\n",
       "      <td>0</td>\n",
       "    </tr>\n",
       "    <tr>\n",
       "      <th>307</th>\n",
       "      <td>Scotland</td>\n",
       "      <td>S92000003</td>\n",
       "      <td>2020-01-04</td>\n",
       "      <td>0</td>\n",
       "    </tr>\n",
       "    <tr>\n",
       "      <th>306</th>\n",
       "      <td>Scotland</td>\n",
       "      <td>S92000003</td>\n",
       "      <td>2020-01-05</td>\n",
       "      <td>0</td>\n",
       "    </tr>\n",
       "    <tr>\n",
       "      <th>305</th>\n",
       "      <td>Scotland</td>\n",
       "      <td>S92000003</td>\n",
       "      <td>2020-01-06</td>\n",
       "      <td>0</td>\n",
       "    </tr>\n",
       "    <tr>\n",
       "      <th>...</th>\n",
       "      <td>...</td>\n",
       "      <td>...</td>\n",
       "      <td>...</td>\n",
       "      <td>...</td>\n",
       "    </tr>\n",
       "    <tr>\n",
       "      <th>4</th>\n",
       "      <td>Scotland</td>\n",
       "      <td>S92000003</td>\n",
       "      <td>2020-11-02</td>\n",
       "      <td>951</td>\n",
       "    </tr>\n",
       "    <tr>\n",
       "      <th>3</th>\n",
       "      <td>Scotland</td>\n",
       "      <td>S92000003</td>\n",
       "      <td>2020-11-03</td>\n",
       "      <td>999</td>\n",
       "    </tr>\n",
       "    <tr>\n",
       "      <th>2</th>\n",
       "      <td>Scotland</td>\n",
       "      <td>S92000003</td>\n",
       "      <td>2020-11-04</td>\n",
       "      <td>1433</td>\n",
       "    </tr>\n",
       "    <tr>\n",
       "      <th>1</th>\n",
       "      <td>Scotland</td>\n",
       "      <td>S92000003</td>\n",
       "      <td>2020-11-05</td>\n",
       "      <td>1216</td>\n",
       "    </tr>\n",
       "    <tr>\n",
       "      <th>0</th>\n",
       "      <td>Scotland</td>\n",
       "      <td>S92000003</td>\n",
       "      <td>2020-11-06</td>\n",
       "      <td>1072</td>\n",
       "    </tr>\n",
       "  </tbody>\n",
       "</table>\n",
       "<p>310 rows × 4 columns</p>\n",
       "</div>"
      ],
      "text/plain": [
       "     areaname   areacode        date  newCases\n",
       "309  Scotland  S92000003  2020-01-02         0\n",
       "308  Scotland  S92000003  2020-01-03         0\n",
       "307  Scotland  S92000003  2020-01-04         0\n",
       "306  Scotland  S92000003  2020-01-05         0\n",
       "305  Scotland  S92000003  2020-01-06         0\n",
       "..        ...        ...         ...       ...\n",
       "4    Scotland  S92000003  2020-11-02       951\n",
       "3    Scotland  S92000003  2020-11-03       999\n",
       "2    Scotland  S92000003  2020-11-04      1433\n",
       "1    Scotland  S92000003  2020-11-05      1216\n",
       "0    Scotland  S92000003  2020-11-06      1072\n",
       "\n",
       "[310 rows x 4 columns]"
      ]
     },
     "execution_count": 4,
     "metadata": {},
     "output_type": "execute_result"
    }
   ],
   "source": [
    "scot_df.sort_values(by=['date'])\n"
   ]
  },
  {
   "cell_type": "code",
   "execution_count": 5,
   "metadata": {},
   "outputs": [],
   "source": [
    "UK_df = pd.concat([scot_df, wales_df, nireland_df,Eng_df], ignore_index = True, sort=False)"
   ]
  },
  {
   "cell_type": "code",
   "execution_count": 6,
   "metadata": {},
   "outputs": [],
   "source": [
    "import matplotlib.pyplot as plt\n",
    "import matplotlib.dates as mdates"
   ]
  },
  {
   "cell_type": "code",
   "execution_count": 7,
   "metadata": {},
   "outputs": [],
   "source": [
    "from uk_covid19 import Cov19API,api_interface,data_format"
   ]
  },
  {
   "cell_type": "code",
   "execution_count": 8,
   "metadata": {},
   "outputs": [
    {
     "name": "stdout",
     "output_type": "stream",
     "text": [
      "{'data': [{'date': '2020-11-06', 'newCases': 23287, 'newCumCases': 1146484}, {'date': '2020-11-05', 'newCases': 24141, 'newCumCases': 1123197}, {'date': '2020-11-04', 'newCases': 25177, 'newCumCases': 1099059}, {'date': '2020-11-03', 'newCases': 20018, 'newCumCases': 1073882}, {'date': '2020-11-02', 'newCases': 18950, 'newCumCases': 1053864}, {'date': '2020-11-01', 'newCases': 23254, 'newCumCases': 1034914}, {'date': '2020-10-31', 'newCases': 21915, 'newCumCases': 1011660}, {'date': '2020-10-30', 'newCases': 24405, 'newCumCases': 989745}, {'date': '2020-10-29', 'newCases': 23065, 'newCumCases': 965340}, {'date': '2020-10-28', 'newCases': 24701, 'newCumCases': 942275}, {'date': '2020-10-27', 'newCases': 22885, 'newCumCases': 917575}, {'date': '2020-10-26', 'newCases': 20890, 'newCumCases': 894690}, {'date': '2020-10-25', 'newCases': 19790, 'newCumCases': 873800}, {'date': '2020-10-24', 'newCases': 23012, 'newCumCases': 854010}, {'date': '2020-10-23', 'newCases': 20530, 'newCumCases': 830998}, {'date': '2020-10-22', 'newCases': 21242, 'newCumCases': 810467}, {'date': '2020-10-21', 'newCases': 26688, 'newCumCases': 789229}, {'date': '2020-10-20', 'newCases': 21331, 'newCumCases': 762542}, {'date': '2020-10-19', 'newCases': 18804, 'newCumCases': 741212}, {'date': '2020-10-18', 'newCases': 16982, 'newCumCases': 722409}, {'date': '2020-10-17', 'newCases': 16171, 'newCumCases': 705428}, {'date': '2020-10-16', 'newCases': 15650, 'newCumCases': 689257}, {'date': '2020-10-15', 'newCases': 18980, 'newCumCases': 673622}, {'date': '2020-10-14', 'newCases': 19724, 'newCumCases': 654644}, {'date': '2020-10-13', 'newCases': 17234, 'newCumCases': 634920}, {'date': '2020-10-12', 'newCases': 13972, 'newCumCases': 617688}, {'date': '2020-10-11', 'newCases': 12872, 'newCumCases': 603716}, {'date': '2020-10-10', 'newCases': 15166, 'newCumCases': 590844}, {'date': '2020-10-09', 'newCases': 13864, 'newCumCases': 575679}, {'date': '2020-10-08', 'newCases': 17540, 'newCumCases': 561815}, {'date': '2020-10-07', 'newCases': 14162, 'newCumCases': 544275}, {'date': '2020-10-06', 'newCases': 14542, 'newCumCases': 530113}, {'date': '2020-10-05', 'newCases': 12594, 'newCumCases': 515571}, {'date': '2020-10-04', 'newCases': 22961, 'newCumCases': 502978}, {'date': '2020-10-03', 'newCases': 12872, 'newCumCases': 480017}, {'date': '2020-10-02', 'newCases': 6968, 'newCumCases': 467146}, {'date': '2020-10-01', 'newCases': 6914, 'newCumCases': 460178}, {'date': '2020-09-30', 'newCases': 7108, 'newCumCases': 453264}, {'date': '2020-09-29', 'newCases': 7143, 'newCumCases': 446156}, {'date': '2020-09-28', 'newCases': 4044, 'newCumCases': 439013}, {'date': '2020-09-27', 'newCases': 5693, 'newCumCases': 434969}, {'date': '2020-09-26', 'newCases': 6042, 'newCumCases': 429277}, {'date': '2020-09-25', 'newCases': 6874, 'newCumCases': 423236}, {'date': '2020-09-24', 'newCases': 6634, 'newCumCases': 416363}, {'date': '2020-09-23', 'newCases': 6178, 'newCumCases': 409729}, {'date': '2020-09-22', 'newCases': 4926, 'newCumCases': 403551}, {'date': '2020-09-21', 'newCases': 4368, 'newCumCases': 398625}, {'date': '2020-09-20', 'newCases': 3899, 'newCumCases': 394257}, {'date': '2020-09-19', 'newCases': 4422, 'newCumCases': 390358}, {'date': '2020-09-18', 'newCases': 4322, 'newCumCases': 385936}, {'date': '2020-09-17', 'newCases': 3395, 'newCumCases': 381614}, {'date': '2020-09-16', 'newCases': 3991, 'newCumCases': 378219}, {'date': '2020-09-15', 'newCases': 3105, 'newCumCases': 374228}, {'date': '2020-09-14', 'newCases': 2621, 'newCumCases': 371125}, {'date': '2020-09-13', 'newCases': 3330, 'newCumCases': 368504}, {'date': '2020-09-12', 'newCases': 3497, 'newCumCases': 365174}, {'date': '2020-09-11', 'newCases': 3539, 'newCumCases': 361677}, {'date': '2020-09-10', 'newCases': 2919, 'newCumCases': 358138}, {'date': '2020-09-09', 'newCases': 2659, 'newCumCases': 355219}, {'date': '2020-09-08', 'newCases': 2460, 'newCumCases': 352560}, {'date': '2020-09-07', 'newCases': 2948, 'newCumCases': 350100}, {'date': '2020-09-06', 'newCases': 2988, 'newCumCases': 347152}, {'date': '2020-09-05', 'newCases': 1813, 'newCumCases': 344164}, {'date': '2020-09-04', 'newCases': 1940, 'newCumCases': 342351}, {'date': '2020-09-03', 'newCases': 1735, 'newCumCases': 340411}, {'date': '2020-09-02', 'newCases': 1508, 'newCumCases': 338676}, {'date': '2020-09-01', 'newCases': 1295, 'newCumCases': 337168}, {'date': '2020-08-31', 'newCases': 1406, 'newCumCases': 335873}, {'date': '2020-08-30', 'newCases': 1715, 'newCumCases': 334467}, {'date': '2020-08-29', 'newCases': 1108, 'newCumCases': 332752}, {'date': '2020-08-28', 'newCases': 1276, 'newCumCases': 331644}, {'date': '2020-08-27', 'newCases': 1522, 'newCumCases': 330368}, {'date': '2020-08-26', 'newCases': 1048, 'newCumCases': 328846}, {'date': '2020-08-25', 'newCases': 1184, 'newCumCases': 327798}, {'date': '2020-08-24', 'newCases': 853, 'newCumCases': 326614}, {'date': '2020-08-23', 'newCases': 1160, 'newCumCases': 325761}, {'date': '2020-08-22', 'newCases': 1288, 'newCumCases': 324601}, {'date': '2020-08-21', 'newCases': 1033, 'newCumCases': 323313}, {'date': '2020-08-20', 'newCases': 1182, 'newCumCases': 322280}, {'date': '2020-08-19', 'newCases': 812, 'newCumCases': 321098}, {'date': '2020-08-18', 'newCases': 1089, 'newCumCases': 320286}, {'date': '2020-08-17', 'newCases': 713, 'newCumCases': 319197}, {'date': '2020-08-16', 'newCases': 1040, 'newCumCases': 318484}, {'date': '2020-08-15', 'newCases': 1077, 'newCumCases': 317444}, {'date': '2020-08-14', 'newCases': 1441, 'newCumCases': 316367}, {'date': '2020-08-13', 'newCases': 1129, 'newCumCases': 314927}, {'date': '2020-08-12', 'newCases': 1009, 'newCumCases': 313798}, {'date': '2020-08-11', 'newCases': 1148, 'newCumCases': 312789}, {'date': '2020-08-10', 'newCases': 740, 'newCumCases': 311641}, {'date': '2020-08-09', 'newCases': 1062, 'newCumCases': 310825}, {'date': '2020-08-08', 'newCases': 758, 'newCumCases': 309763}, {'date': '2020-08-07', 'newCases': 871, 'newCumCases': 309005}, {'date': '2020-08-06', 'newCases': 950, 'newCumCases': 308134}, {'date': '2020-08-05', 'newCases': 892, 'newCumCases': 307184}, {'date': '2020-08-04', 'newCases': 670, 'newCumCases': 306293}, {'date': '2020-08-03', 'newCases': 898, 'newCumCases': 305623}, {'date': '2020-08-02', 'newCases': 744, 'newCumCases': 304685}, {'date': '2020-08-01', 'newCases': 761, 'newCumCases': 303942}, {'date': '2020-07-31', 'newCases': 880, 'newCumCases': 303181}, {'date': '2020-07-30', 'newCases': 846, 'newCumCases': 302301}, {'date': '2020-07-29', 'newCases': 763, 'newCumCases': 301455}, {'date': '2020-07-28', 'newCases': 581, 'newCumCases': 300692}, {'date': '2020-07-27', 'newCases': 685, 'newCumCases': 300111}, {'date': '2020-07-26', 'newCases': 745, 'newCumCases': 299426}, {'date': '2020-07-25', 'newCases': 767, 'newCumCases': 298681}, {'date': '2020-07-24', 'newCases': 768, 'newCumCases': 297914}, {'date': '2020-07-23', 'newCases': 769, 'newCumCases': 297146}, {'date': '2020-07-22', 'newCases': 560, 'newCumCases': 296377}, {'date': '2020-07-21', 'newCases': 445, 'newCumCases': 295817}, {'date': '2020-07-20', 'newCases': 557, 'newCumCases': 295372}, {'date': '2020-07-19', 'newCases': 726, 'newCumCases': 294792}, {'date': '2020-07-18', 'newCases': 827, 'newCumCases': 294066}, {'date': '2020-07-17', 'newCases': 687, 'newCumCases': 293239}, {'date': '2020-07-16', 'newCases': 642, 'newCumCases': 292552}, {'date': '2020-07-15', 'newCases': 538, 'newCumCases': 291911}, {'date': '2020-07-14', 'newCases': 398, 'newCumCases': 291373}, {'date': '2020-07-13', 'newCases': 530, 'newCumCases': 290133}, {'date': '2020-07-12', 'newCases': 650, 'newCumCases': 289603}, {'date': '2020-07-11', 'newCases': 820, 'newCumCases': 288953}, {'date': '2020-07-10', 'newCases': 512, 'newCumCases': 288133}, {'date': '2020-07-09', 'newCases': 642, 'newCumCases': 287621}, {'date': '2020-07-08', 'newCases': 630, 'newCumCases': 286979}, {'date': '2020-07-07', 'newCases': 581, 'newCumCases': 286349}, {'date': '2020-07-06', 'newCases': 343, 'newCumCases': 285768}, {'date': '2020-07-05', 'newCases': 516, 'newCumCases': 285416}, {'date': '2020-07-04', 'newCases': 624, 'newCumCases': 284900}, {'date': '2020-07-03', 'newCases': 544, 'newCumCases': 284276}, {'date': '2020-07-02', 'newCases': 576, 'newCumCases': 283757}, {'date': '2020-07-01', 'newCases': 829, 'newCumCases': 313483}, {'date': '2020-06-30', 'newCases': 689, 'newCumCases': 312654}, {'date': '2020-06-29', 'newCases': 815, 'newCumCases': 311965}, {'date': '2020-06-28', 'newCases': 901, 'newCumCases': 311151}, {'date': '2020-06-27', 'newCases': 890, 'newCumCases': 310250}, {'date': '2020-06-26', 'newCases': 1006, 'newCumCases': 309360}, {'date': '2020-06-25', 'newCases': 1118, 'newCumCases': 307980}, {'date': '2020-06-24', 'newCases': 653, 'newCumCases': 306862}, {'date': '2020-06-23', 'newCases': 874, 'newCumCases': 306210}, {'date': '2020-06-22', 'newCases': 958, 'newCumCases': 305289}, {'date': '2020-06-21', 'newCases': 1221, 'newCumCases': 304331}, {'date': '2020-06-20', 'newCases': 1295, 'newCumCases': 303110}, {'date': '2020-06-19', 'newCases': 1346, 'newCumCases': 301815}, {'date': '2020-06-18', 'newCases': 1218, 'newCumCases': 300469}, {'date': '2020-06-17', 'newCases': 1115, 'newCumCases': 299251}, {'date': '2020-06-16', 'newCases': 1279, 'newCumCases': 298136}, {'date': '2020-06-15', 'newCases': 1056, 'newCumCases': 296857}, {'date': '2020-06-14', 'newCases': 1514, 'newCumCases': 295889}, {'date': '2020-06-13', 'newCases': 1425, 'newCumCases': 294375}, {'date': '2020-06-12', 'newCases': 1541, 'newCumCases': 292950}, {'date': '2020-06-11', 'newCases': 1266, 'newCumCases': 291409}, {'date': '2020-06-10', 'newCases': 1003, 'newCumCases': 290143}, {'date': '2020-06-09', 'newCases': 1387, 'newCumCases': 289140}, {'date': '2020-06-08', 'newCases': 1205, 'newCumCases': 287399}, {'date': '2020-06-07', 'newCases': 1326, 'newCumCases': 286194}, {'date': '2020-06-06', 'newCases': 1557, 'newCumCases': 284868}, {'date': '2020-06-05', 'newCases': 1650, 'newCumCases': 283311}, {'date': '2020-06-04', 'newCases': 1805, 'newCumCases': 281661}, {'date': '2020-06-03', 'newCases': 1871, 'newCumCases': 279856}, {'date': '2020-06-02', 'newCases': 1613, 'newCumCases': 277985}, {'date': '2020-06-01', 'newCases': 1570, 'newCumCases': 276332}, {'date': '2020-05-31', 'newCases': 1936, 'newCumCases': 274762}, {'date': '2020-05-30', 'newCases': 2445, 'newCumCases': 272826}, {'date': '2020-05-29', 'newCases': 2095, 'newCumCases': 271222}, {'date': '2020-05-28', 'newCases': 1887, 'newCumCases': 269127}, {'date': '2020-05-27', 'newCases': 2013, 'newCumCases': 267240}, {'date': '2020-05-26', 'newCases': 2004, 'newCumCases': 265227}, {'date': '2020-05-25', 'newCases': 1625, 'newCumCases': 261184}, {'date': '2020-05-24', 'newCases': 2409, 'newCumCases': 259559}, {'date': '2020-05-23', 'newCases': 2959, 'newCumCases': 257154}, {'date': '2020-05-22', 'newCases': 3287, 'newCumCases': 254195}, {'date': '2020-05-21', 'newCases': 2615, 'newCumCases': 250908}, {'date': '2020-05-20', 'newCases': 2472, 'newCumCases': 248293}, {'date': '2020-05-19', 'newCases': 2412, 'newCumCases': 248818}, {'date': '2020-05-18', 'newCases': 2684, 'newCumCases': 246406}, {'date': '2020-05-17', 'newCases': 3562, 'newCumCases': 243723}, {'date': '2020-05-16', 'newCases': 3451, 'newCumCases': 240161}, {'date': '2020-05-15', 'newCases': 3560, 'newCumCases': 236711}, {'date': '2020-05-14', 'newCases': 3446, 'newCumCases': 233151}, {'date': '2020-05-13', 'newCases': 3242, 'newCumCases': 229705}, {'date': '2020-05-12', 'newCases': 3403, 'newCumCases': 226463}, {'date': '2020-05-11', 'newCases': 3877, 'newCumCases': 223060}, {'date': '2020-05-10', 'newCases': 3923, 'newCumCases': 219183}, {'date': '2020-05-09', 'newCases': 3896, 'newCumCases': 215260}, {'date': '2020-05-08', 'newCases': 4649, 'newCumCases': 211364}, {'date': '2020-05-07', 'newCases': 5614, 'newCumCases': 206715}, {'date': '2020-05-06', 'newCases': 6111, 'newCumCases': 201101}, {'date': '2020-05-05', 'newCases': 4406, 'newCumCases': 194990}, {'date': '2020-05-04', 'newCases': 3985, 'newCumCases': 190584}, {'date': '2020-05-03', 'newCases': 4339, 'newCumCases': 186599}, {'date': '2020-05-02', 'newCases': 4806, 'newCumCases': 182260}, {'date': '2020-05-01', 'newCases': 6201, 'newCumCases': 177454}, {'date': '2020-04-30', 'newCases': 6032, 'newCumCases': 171253}, {'date': '2020-04-29', 'newCases': 4076, 'newCumCases': 165221}, {'date': '2020-04-28', 'newCases': 3996, 'newCumCases': 161145}, {'date': '2020-04-27', 'newCases': 4310, 'newCumCases': 157149}, {'date': '2020-04-26', 'newCases': 4463, 'newCumCases': 152840}, {'date': '2020-04-25', 'newCases': 4913, 'newCumCases': 148377}, {'date': '2020-04-24', 'newCases': 5386, 'newCumCases': 143464}, {'date': '2020-04-23', 'newCases': 4583, 'newCumCases': 138078}, {'date': '2020-04-22', 'newCases': 4451, 'newCumCases': 133495}, {'date': '2020-04-21', 'newCases': 4301, 'newCumCases': 129044}, {'date': '2020-04-20', 'newCases': 4676, 'newCumCases': 124743}, {'date': '2020-04-19', 'newCases': 5850, 'newCumCases': 120067}, {'date': '2020-04-18', 'newCases': 5526, 'newCumCases': 114217}, {'date': '2020-04-17', 'newCases': 5599, 'newCumCases': 108692}, {'date': '2020-04-16', 'newCases': 4618, 'newCumCases': 103093}, {'date': '2020-04-15', 'newCases': 4605, 'newCumCases': 98476}, {'date': '2020-04-14', 'newCases': 5252, 'newCumCases': 93873}, {'date': '2020-04-13', 'newCases': 4342, 'newCumCases': 88621}, {'date': '2020-04-12', 'newCases': 5288, 'newCumCases': 84279}, {'date': '2020-04-11', 'newCases': 5234, 'newCumCases': 78991}, {'date': '2020-04-10', 'newCases': 5706, 'newCumCases': 73758}, {'date': '2020-04-09', 'newCases': 4675, 'newCumCases': 68052}, {'date': '2020-04-08', 'newCases': 5865, 'newCumCases': 63377}, {'date': '2020-04-07', 'newCases': 3888, 'newCumCases': 57512}, {'date': '2020-04-06', 'newCases': 4143, 'newCumCases': 53624}, {'date': '2020-04-05', 'newCases': 6199, 'newCumCases': 49481}, {'date': '2020-04-04', 'newCases': 4000, 'newCumCases': 43282}, {'date': '2020-04-03', 'newCases': 4672, 'newCumCases': 39282}, {'date': '2020-04-02', 'newCases': 4522, 'newCumCases': 34610}, {'date': '2020-04-01', 'newCases': 4567, 'newCumCases': 30088}, {'date': '2020-03-31', 'newCases': 3250, 'newCumCases': 25521}, {'date': '2020-03-30', 'newCases': 2665, 'newCumCases': 22271}, {'date': '2020-03-29', 'newCases': 2502, 'newCumCases': 19606}, {'date': '2020-03-28', 'newCases': 2556, 'newCumCases': 17104}, {'date': '2020-03-27', 'newCases': 2890, 'newCumCases': 14548}, {'date': '2020-03-26', 'newCases': 2129, 'newCumCases': 11658}, {'date': '2020-03-25', 'newCases': 1452, 'newCumCases': 9529}, {'date': '2020-03-24', 'newCases': 1427, 'newCumCases': 8077}, {'date': '2020-03-23', 'newCases': 967, 'newCumCases': 6650}, {'date': '2020-03-22', 'newCases': 665, 'newCumCases': 5683}, {'date': '2020-03-21', 'newCases': 1035, 'newCumCases': 5018}, {'date': '2020-03-20', 'newCases': 714, 'newCumCases': 3983}, {'date': '2020-03-19', 'newCases': 643, 'newCumCases': 3269}, {'date': '2020-03-18', 'newCases': 676, 'newCumCases': 2626}, {'date': '2020-03-17', 'newCases': 407, 'newCumCases': 1950}, {'date': '2020-03-16', 'newCases': 152, 'newCumCases': 1543}, {'date': '2020-03-15', 'newCases': 330, 'newCumCases': 1391}, {'date': '2020-03-14', 'newCases': 264, 'newCumCases': 1061}, {'date': '2020-03-13', 'newCases': 207, 'newCumCases': 797}, {'date': '2020-03-12', 'newCases': 134, 'newCumCases': 590}, {'date': '2020-03-11', 'newCases': 83, 'newCumCases': 456}, {'date': '2020-03-10', 'newCases': 52, 'newCumCases': 373}, {'date': '2020-03-09', 'newCases': 50, 'newCumCases': 321}, {'date': '2020-03-08', 'newCases': 65, 'newCumCases': 271}, {'date': '2020-03-07', 'newCases': 46, 'newCumCases': 206}, {'date': '2020-03-06', 'newCases': 46, 'newCumCases': 160}, {'date': '2020-03-05', 'newCases': 29, 'newCumCases': 114}, {'date': '2020-03-04', 'newCases': 34, 'newCumCases': 85}, {'date': '2020-03-03', 'newCases': 11, 'newCumCases': 51}, {'date': '2020-03-02', 'newCases': 5, 'newCumCases': 40}, {'date': '2020-03-01', 'newCases': 12, 'newCumCases': 35}, {'date': '2020-02-29', 'newCases': 4, 'newCumCases': 23}, {'date': '2020-02-28', 'newCases': 6, 'newCumCases': 19}, {'date': '2020-02-27', 'newCases': 0, 'newCumCases': 13}, {'date': '2020-02-26', 'newCases': 0, 'newCumCases': 13}, {'date': '2020-02-25', 'newCases': 0, 'newCumCases': 13}, {'date': '2020-02-24', 'newCases': 4, 'newCumCases': 13}, {'date': '2020-02-23', 'newCases': 0, 'newCumCases': 9}, {'date': '2020-02-22', 'newCases': 0, 'newCumCases': 9}, {'date': '2020-02-21', 'newCases': 0, 'newCumCases': 9}, {'date': '2020-02-20', 'newCases': 0, 'newCumCases': 9}, {'date': '2020-02-19', 'newCases': 0, 'newCumCases': 9}, {'date': '2020-02-18', 'newCases': 0, 'newCumCases': 9}, {'date': '2020-02-17', 'newCases': 0, 'newCumCases': 9}, {'date': '2020-02-16', 'newCases': 0, 'newCumCases': 9}, {'date': '2020-02-15', 'newCases': 0, 'newCumCases': 9}, {'date': '2020-02-14', 'newCases': 0, 'newCumCases': 9}, {'date': '2020-02-13', 'newCases': 1, 'newCumCases': 9}, {'date': '2020-02-12', 'newCases': 0, 'newCumCases': 8}, {'date': '2020-02-11', 'newCases': 0, 'newCumCases': 8}, {'date': '2020-02-10', 'newCases': 4, 'newCumCases': 8}, {'date': '2020-02-09', 'newCases': 1, 'newCumCases': 4}, {'date': '2020-02-08', 'newCases': 0, 'newCumCases': 3}, {'date': '2020-02-07', 'newCases': 0, 'newCumCases': 3}, {'date': '2020-02-06', 'newCases': 1, 'newCumCases': 3}, {'date': '2020-02-05', 'newCases': 0, 'newCumCases': 2}, {'date': '2020-02-04', 'newCases': 0, 'newCumCases': 2}, {'date': '2020-02-03', 'newCases': 0, 'newCumCases': 2}, {'date': '2020-02-02', 'newCases': 0, 'newCumCases': 2}, {'date': '2020-02-01', 'newCases': 0, 'newCumCases': 2}, {'date': '2020-01-31', 'newCases': 2, 'newCumCases': 2}, {'date': '2020-01-30', 'newCases': 0, 'newCumCases': None}, {'date': '2020-01-29', 'newCases': 0, 'newCumCases': None}, {'date': '2020-01-28', 'newCases': 0, 'newCumCases': None}, {'date': '2020-01-27', 'newCases': 0, 'newCumCases': None}, {'date': '2020-01-26', 'newCases': 0, 'newCumCases': None}, {'date': '2020-01-25', 'newCases': 0, 'newCumCases': None}, {'date': '2020-01-24', 'newCases': 0, 'newCumCases': None}, {'date': '2020-01-23', 'newCases': 0, 'newCumCases': None}, {'date': '2020-01-22', 'newCases': 0, 'newCumCases': None}, {'date': '2020-01-21', 'newCases': 0, 'newCumCases': None}, {'date': '2020-01-20', 'newCases': 0, 'newCumCases': None}, {'date': '2020-01-19', 'newCases': 0, 'newCumCases': None}, {'date': '2020-01-18', 'newCases': 0, 'newCumCases': None}, {'date': '2020-01-17', 'newCases': 0, 'newCumCases': None}, {'date': '2020-01-16', 'newCases': 0, 'newCumCases': None}, {'date': '2020-01-15', 'newCases': 0, 'newCumCases': None}, {'date': '2020-01-14', 'newCases': 0, 'newCumCases': None}, {'date': '2020-01-13', 'newCases': 0, 'newCumCases': None}, {'date': '2020-01-12', 'newCases': 0, 'newCumCases': None}, {'date': '2020-01-11', 'newCases': 0, 'newCumCases': None}, {'date': '2020-01-10', 'newCases': 0, 'newCumCases': None}, {'date': '2020-01-09', 'newCases': 0, 'newCumCases': None}, {'date': '2020-01-08', 'newCases': 0, 'newCumCases': None}, {'date': '2020-01-07', 'newCases': 0, 'newCumCases': None}, {'date': '2020-01-06', 'newCases': 0, 'newCumCases': None}, {'date': '2020-01-05', 'newCases': 0, 'newCumCases': None}, {'date': '2020-01-04', 'newCases': 0, 'newCumCases': None}, {'date': '2020-01-03', 'newCases': 0, 'newCumCases': None}, {'date': '2020-01-02', 'newCases': 0, 'newCumCases': None}], 'lastUpdate': '2020-11-06T15:36:05.000000Z', 'length': 310, 'totalPages': 1}\n"
     ]
    }
   ],
   "source": [
    "\n",
    "cases_and_deaths = {\n",
    "    \"date\":\"date\",\n",
    "    \"newCases\":\"newCasesByPublishDate\",\n",
    "    \"newCumCases\":\"cumCasesByPublishDate\",\n",
    "\n",
    "    \n",
    "}\n",
    "all_nations = [\n",
    "    \"areaType=overview\"\n",
    "]\n",
    "\n",
    "api = Cov19API(\n",
    "    filters=all_nations,\n",
    "    structure=cases_and_deaths,\n",
    "    #latest_by=\"newCasesByPublishDate\"\n",
    ")\n",
    "\n",
    "data = api.get_json()\n",
    "\n",
    "print(data)"
   ]
  },
  {
   "cell_type": "code",
   "execution_count": 9,
   "metadata": {},
   "outputs": [],
   "source": [
    "Uk_data = pd.DataFrame(data['data'])"
   ]
  },
  {
   "cell_type": "code",
   "execution_count": 10,
   "metadata": {
    "scrolled": true
   },
   "outputs": [
    {
     "data": {
      "text/html": [
       "<div>\n",
       "<style scoped>\n",
       "    .dataframe tbody tr th:only-of-type {\n",
       "        vertical-align: middle;\n",
       "    }\n",
       "\n",
       "    .dataframe tbody tr th {\n",
       "        vertical-align: top;\n",
       "    }\n",
       "\n",
       "    .dataframe thead th {\n",
       "        text-align: right;\n",
       "    }\n",
       "</style>\n",
       "<table border=\"1\" class=\"dataframe\">\n",
       "  <thead>\n",
       "    <tr style=\"text-align: right;\">\n",
       "      <th></th>\n",
       "      <th>date</th>\n",
       "      <th>newCases</th>\n",
       "      <th>newCumCases</th>\n",
       "    </tr>\n",
       "  </thead>\n",
       "  <tbody>\n",
       "    <tr>\n",
       "      <th>305</th>\n",
       "      <td>2020-01-06</td>\n",
       "      <td>0</td>\n",
       "      <td>NaN</td>\n",
       "    </tr>\n",
       "    <tr>\n",
       "      <th>306</th>\n",
       "      <td>2020-01-05</td>\n",
       "      <td>0</td>\n",
       "      <td>NaN</td>\n",
       "    </tr>\n",
       "    <tr>\n",
       "      <th>307</th>\n",
       "      <td>2020-01-04</td>\n",
       "      <td>0</td>\n",
       "      <td>NaN</td>\n",
       "    </tr>\n",
       "    <tr>\n",
       "      <th>308</th>\n",
       "      <td>2020-01-03</td>\n",
       "      <td>0</td>\n",
       "      <td>NaN</td>\n",
       "    </tr>\n",
       "    <tr>\n",
       "      <th>309</th>\n",
       "      <td>2020-01-02</td>\n",
       "      <td>0</td>\n",
       "      <td>NaN</td>\n",
       "    </tr>\n",
       "  </tbody>\n",
       "</table>\n",
       "</div>"
      ],
      "text/plain": [
       "           date  newCases  newCumCases\n",
       "305  2020-01-06         0          NaN\n",
       "306  2020-01-05         0          NaN\n",
       "307  2020-01-04         0          NaN\n",
       "308  2020-01-03         0          NaN\n",
       "309  2020-01-02         0          NaN"
      ]
     },
     "execution_count": 10,
     "metadata": {},
     "output_type": "execute_result"
    }
   ],
   "source": [
    "Uk_data.tail()"
   ]
  },
  {
   "cell_type": "code",
   "execution_count": 11,
   "metadata": {},
   "outputs": [],
   "source": [
    "Uk_data['newCumCases'] = Uk_data['newCumCases'].fillna(0.0).astype('int')"
   ]
  },
  {
   "cell_type": "code",
   "execution_count": 12,
   "metadata": {},
   "outputs": [],
   "source": [
    "Uk_data = Uk_data.loc[Uk_data['date']>='2020-02-01'].sort_values(by='date',ascending=True)\n"
   ]
  },
  {
   "cell_type": "code",
   "execution_count": 13,
   "metadata": {},
   "outputs": [],
   "source": [
    "Uk_data.loc[Uk_data['date']=='2020-02-01']\n",
    "dates = ['01 Feb','01 Mar','01 Apr','01 May','01 Jun','01 Jul','01 Aug','01 Sep','01 Oct','01 Nov']"
   ]
  },
  {
   "cell_type": "code",
   "execution_count": 15,
   "metadata": {},
   "outputs": [],
   "source": [
    "import numpy as np\n",
    "x = np.array_split(Uk_data['newCases'].to_list(),56)\n",
    "mylist=[]\n",
    "for i in range(0,len(x)):\n",
    "    mylist.append(np.average(x[i]))"
   ]
  },
  {
   "cell_type": "code",
   "execution_count": 16,
   "metadata": {},
   "outputs": [
    {
     "data": {
      "image/png": "[encoded data removed]",
      "text/plain": [
       "<Figure size 1080x360 with 1 Axes>"
      ]
     },
     "metadata": {
      "needs_background": "light"
     },
     "output_type": "display_data"
    }
   ],
   "source": [
    "plt.figure(figsize=(15,5))\n",
    "\n",
    "plt.bar(x=Uk_data['date'], height=Uk_data['newCases'],label='Number of Cases')\n",
    "plt.xticks(ticks= Uk_data['date'][::30])\n",
    "plt.plot(Uk_data['date'][::5],mylist,color = 'purple',label='Cases(5-day average)')\n",
    "plt.legend(ncol=2,bbox_to_anchor=(0.05, -0.2),loc='lower left',borderaxespad=0.)\n",
    "plt.show()"
   ]
  },
  {
   "cell_type": "code",
   "execution_count": 18,
   "metadata": {},
   "outputs": [
    {
     "data": {
      "image/png": "[encoded data removed]",
      "text/plain": [
       "<Figure size 1080x360 with 1 Axes>"
      ]
     },
     "metadata": {
      "needs_background": "light"
     },
     "output_type": "display_data"
    }
   ],
   "source": [
    "plt.figure(figsize=(15,5))\n",
    "plt.bar(x=Uk_data['date'], height=Uk_data['newCumCases'],label='Number of Cases')\n",
    "plt.xticks(ticks= Uk_data['date'][::30])\n",
    "plt.ylabel('Number of cases in Millions')\n",
    "\n",
    "plt.show()"
   ]
  },
  {
   "cell_type": "code",
   "execution_count": null,
   "metadata": {},
   "outputs": [],
   "source": []
  }
 ],
 "metadata": {
  "kernelspec": {
   "display_name": "Python 3",
   "language": "python",
   "name": "python3"
  },
  "language_info": {
   "codemirror_mode": {
    "name": "ipython",
    "version": 3
   },
   "file_extension": ".py",
   "mimetype": "text/x-python",
   "name": "python",
   "nbconvert_exporter": "python",
   "pygments_lexer": "ipython3",
   "version": "3.7.3"
  }
 },
 "nbformat": 4,
 "nbformat_minor": 4
}
